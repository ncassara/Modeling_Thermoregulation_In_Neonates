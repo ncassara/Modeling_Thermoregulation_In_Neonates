{
 "cells": [
  {
   "cell_type": "markdown",
   "id": "643326",
   "metadata": {
    "collapsed": false
   },
   "source": [
    "# Modeling Thermoregulation in Neonates\n"
   ]
  },
  {
   "cell_type": "markdown",
   "id": "b81179",
   "metadata": {
    "collapsed": false
   },
   "source": [
    "<span style='font-size:x-large'>**Introduction**</span>\n",
    "\n",
    "<span style='font-size:medium'>Neonates, especially those born prematurely, struggle to regulate their body temperature. This happens for several reasons: their bodies have a high surface\\-area\\-to\\-volume ratio, their skin is thin, they have little subcutaneous fat, and their thermoregulatory system isn’t fully developed. If their temperature drops too low \\(hypothermia\\), they can burn through energy too quickly, experience metabolic stress, develop respiratory issues, or, in severe cases, face life\\-threatening complications. On the other hand, if they overheat \\(hyperthermia\\), they risk dehydration and other health problems. Keeping newborns at a stable temperature is a top priority in NICUs to help improve their survival chances and long\\-term health.</span>\n",
    "\n",
    "<span style='font-size:medium'>The way newborns gain and lose heat follows basic principles of heat transfer—conduction, convection, radiation, and evaporation. Medical interventions like incubators, radiant warmers, and skin\\-to\\-skin contact \\(kangaroo care\\) help manage these heat exchanges to keep babies warm.</span>\n"
   ]
  },
  {
   "cell_type": "markdown",
   "id": "0fce09",
   "metadata": {
    "collapsed": false
   },
   "source": [
    "<span style='font-size:x-large'>**Mathematical Approach**</span>\n",
    "\n"
   ]
  },
  {
   "cell_type": "markdown",
   "id": "767d40",
   "metadata": {
    "collapsed": false
   },
   "source": [
    "My work involves mathematically modeling how a newborn baby's body temperature changes. I'm using the idea of heat balance, looking at how much heat the baby produces and how much they lose to their surroundings. By considering factors like metabolism and heat transfer through the air, surfaces, and evaporation, I've developed an equation. This equation helps predict the rate at which the baby's temperature goes up or down over time, taking into account both their own heat production and the environment they're in."
   ]
  },
  {
   "cell_type": "markdown",
   "id": "08cc10",
   "metadata": {
    "collapsed": false
   },
   "source": [
    "<span style='font-size:large'><u>**_Heat Balance_**</u></span>\n",
    "\n",
    "<span style='font-size:medium'>To understand and predict how an infant's body temperature changes over time, we can use a heat balance model based on the principles of heat transfer.</span>\n",
    "\n",
    "<span style='font-size:medium'>The heat balance equation describes how the body gains and loses heat.</span>\n",
    "\n",
    "<span style='font-size:medium'>M = metabolic heat production</span>\n",
    "\n",
    "<span style='font-size:medium'>W = work done \\(external work is probably minimal/negligible in newborns\\)</span>\n",
    "\n",
    "<span style='font-size:medium'>R = heat transfer by radiation</span>\n",
    "\n",
    "<span style='font-size:medium'>C = heat transfer by convection</span>\n",
    "\n",
    "<span style='font-size:medium'>E = evaporative heat loss</span>\n",
    "\n",
    "<span style='font-size:medium'>L = warming and wetting of air which is inhaled and then exhaled \\(could be included under E\\)</span>\n",
    "\n",
    "<span style='font-size:medium'>K = heat transfer by conduction</span>\n",
    "\n",
    "<span style='font-size:medium'>S = heat storage in the body</span>\n",
    "\n",
    "<span style='font-size:medium'>Heat balance exists when</span>\n",
    "\n",
    "<span style='font-size:medium'>M \\- W = R \\+ C \\+ E \\+ L \\+ K \\+ S</span>\n",
    "\n",
    "<span style='font-size:medium'>See: </span>https://ergo.human.cornell.edu/studentdownloads/DEA3500notes/Thermal/thregnotes.html\n"
   ]
  },
  {
   "cell_type": "markdown",
   "id": "86c627",
   "metadata": {
    "collapsed": false
   },
   "source": [
    "<span style='font-size:large'><u>_M \\(Metabolic heat production\\)_</u></span>\n",
    "\n",
    "<span style='font-size:medium'>Newborns generate heat through non\\-shivering thermogenesis:</span>\n",
    "\n",
    "- <span style='font-size:medium'>Heat is produced by metabolism of brown fat</span>\n",
    "- <span style='font-size:medium'>Thermal receptors transmit impulses of the hypothalamus, which stimulate the sympathetic nervous system and causes norepinephrine release in brown fat</span>\n",
    "- <span style='font-size:medium'>Norepinephrine in brown fat activates lipase, which results in lypolysis and fatty acid oxidation</span>\n",
    "- <span style='font-size:medium'>This chemical process generates heat by releasing energy produced instead of storing it as ATP</span>\n",
    "\n",
    "<span style='font-size:medium'>See: </span>[http://www.cmnrp.ca/uploads/documents/Newborn\\_Thermoregulation\\_SLM\\_2013\\_06.pdf](http://www.cmnrp.ca/uploads/documents/Newborn_Thermoregulation_SLM_2013_06.pdf)<span style='font-size:medium'> </span>\n"
   ]
  },
  {
   "cell_type": "markdown",
   "id": "7796b2",
   "metadata": {
    "collapsed": false
   },
   "source": [
    "<span style='font-size:large'><u>_R \\(Radiative Heat Loss and Gain\\)_</u></span>\n",
    "\n",
    "<span style='font-size:medium'>Radiation is the exchange of infrared heat between the neonate and surrounding surfaces. It is modeled using the Stefan\\-Boltzmann law. </span>\n",
    "\n",
    "<span style='font-size:medium'>See: </span>[https://courses.lumenlearning.com/suny\\\\\\-physics/chapter/14\\\\\\-7\\\\\\-radiation/\\\\\\#:~:text=The rate of heat transfer by emitted radiation is determined,its absolute temperature in kelvin](https://courses.lumenlearning.com/suny%5C-physics/chapter/14%5C-7%5C-radiation/%5C#:~:text=The%20rate%20of%20heat%20transfer%20by%20emitted%20radiation%20is%20determined,its%20absolute%20temperature%20in%20kelvin)<span style='font-size:medium'> and </span>[https://www.sciencedirect.com/topics/engineering/radiative\\\\\\-heat\\\\\\-loss](https://www.sciencedirect.com/topics/engineering/radiative%5C-heat%5C-loss)\n"
   ]
  },
  {
   "cell_type": "markdown",
   "id": "16f88f",
   "metadata": {
    "collapsed": false
   },
   "source": [
    "<span style='font-size:large'><u>_C \\(Convective Heat Loss\\)_</u></span>\n",
    "\n",
    "<span style='font-size:medium'>Convective heat transfer occurs when heat is lost to the surrounding air. This is influenced by air movement and temperature gradients. </span>\n",
    "\n",
    "<span style='font-size:medium'>A calculator and equations can be found here: </span>[https://www.engineeringtoolbox.com/convective\\-heat\\-transfer\\-d\\_430.html](https://www.engineeringtoolbox.com/convective-heat-transfer-d_430.html)<span style='font-size:medium'> </span>\n"
   ]
  },
  {
   "cell_type": "markdown",
   "id": "eb5e8f",
   "metadata": {
    "collapsed": false
   },
   "source": [
    "<span style='font-size:large'><u>_K \\(Conductive Heat Transfer\\)_</u></span>\n",
    "\n",
    "<span style='font-size:medium'>Conduction occurs when the neonate is in direct contact with another surface \\(like their mattress\\). </span>\n",
    "\n",
    "<span style='font-size:medium'>A calculator for conductive heat transfer with equations found here: </span>[https://www.engineeringtoolbox.com/conductive\\-heat\\-transfer\\-d\\_428.html](https://www.engineeringtoolbox.com/conductive-heat-transfer-d_428.html)<span style='font-size:medium'> </span>\n"
   ]
  },
  {
   "cell_type": "markdown",
   "id": "c418df",
   "metadata": {
    "collapsed": false
   },
   "source": [
    "<span style='font-size:large'><u>_E/L \\(Evaporative and Respiratory Heat Loss\\)_</u></span>\n",
    "\n",
    "<span style='font-size:medium'>Evaporation accounts for heat loss from the skin \\(sweating\\) and respiratory tract \\(exhalation\\). There are not many sources on how to mathematically model model this in humans.</span>\n"
   ]
  },
  {
   "cell_type": "markdown",
   "id": "ad7e33",
   "metadata": {
    "collapsed": false
   },
   "source": [
    "<span style='font-size:medium'>A differential equation for neonatal temperature regulation can be derived from the first law of thermodynamics \\(principle of energy conservation\\) applied to heat transfer. This derivation would be based on the heat balance equation.</span>\n",
    "\n",
    "<span style='font-size:medium'>**First Law of Thermodynamics \\(applied to the human body\\)**</span>\n",
    "\n",
    "- <span style='font-size:medium'>The rate of change of stored heat in the body \\(S\\) is equal to heat production \\(M\\) minus heat loss \\(R, C, K, E, L\\):</span>\n",
    "\n",
    "$$\n",
    "S = M - (R+C+K+E+L)\n",
    "$$\n",
    "\n",
    "- <span style='font-size:medium'>Heat storage can be expressed using the heat capacity equation:</span>\n",
    "\n",
    "$$\n",
    "S = mc_b{\\frac{dT_b}{dt}}\n",
    "$$\n",
    "\n",
    "where $c_b$ represents the specific heat of the newborn body, and $T_b$ represents the temperature of the newborn body. The formula describes the rate of change of the body temperature \\($T_b$\\) over time.\n",
    "\n",
    "- Combining these we get:\n",
    "\n",
    "$$\n",
    "mc_b{\\frac{dT_b}{dt}} = M - (R+C+K+E+L)\n",
    "$$\n",
    "\n",
    "See: [https://www.toppr.com/guides/physics\\-formulas/heat\\-capacity\\-formula/](https://www.toppr.com/guides/physics-formulas/heat-capacity-formula/) \n"
   ]
  },
  {
   "cell_type": "markdown",
   "id": "caa01a",
   "metadata": {
    "collapsed": false
   },
   "source": [
    "<span style='font-size:x-large'>**Model Development**</span>\n",
    "\n",
    "We need to redefine $M$ (metabolic heat production) as a function fo $T_b$ (the neonate's body temp), Simply, we can model this as:\n",
    "$$\n",
    "M = T - T_b\n",
    "$$\n",
    "Where $T$ is the desired body temperature (a setpoint temp), $T_b$ is the actual body temperature, and $M$ represents metabolic heat production.\n",
    "\n",
    "This means that when $T_b$ is below $T$, M is positive, which would reflect the body's attemp to increase heat production.\n",
    "\n",
    "**Updated Model:**\n",
    "\n",
    "The general heat balance equation (from above) is:\n",
    "$$\n",
    "mc_b{\\frac{dT_b}{dt}} = M - (R+C+K+E+L)\n",
    "$$\n",
    "\n",
    "We can then substitute $M = T - T_b$\n",
    "\n",
    "$$\n",
    "mc_b{\\frac{dT_b}{dt}} = (T-T_b) - (R+C+K+E+L)\n",
    "$$\n",
    "\n",
    "**Simplifications**\n",
    "\n",
    "We can assume that total heat loss $(R+C+K+E+L)$ is proportional to $T_b - T_e$, where $T_e$ is the environmental temperature.\n",
    "\n",
    "$$\n",
    "(R+C+K+E+L) = k(T_b-T_e)\n",
    "$$\n",
    "\n",
    "where $k$ is a constant (ratio) that depends on heat dissipation properties.\n",
    "\n",
    "Then, our equation would become:\n",
    "\n",
    "$$\n",
    "mc_b{\\frac{dT_b}{dt}} = (T-T_b) - k(T_b-T_e)\n",
    "$$\n",
    "\n",
    "After some rearranging:\n",
    "$$\n",
    "mc_b{\\frac{dT_b}{dt}} + T_b(1+k) = T + kT_e\n",
    "$$\n",
    "\n",
    "This is a **First Order Differential Equation.** This would model the rate of change of the neonates body temperature over time and accounts for metabolic heat production and heat loss to the environment.\n"
   ]
  },
  {
   "cell_type": "markdown",
   "id": "c388e5",
   "metadata": {
    "collapsed": false
   },
   "source": [
    "#### **Enhanced Model with Proportional and Integral Control \\(Implemented for Graphing\\):**\n",
    "\n",
    "I implemented a model that incorporates proportional and integral control elements in addition to the heat exchange with the environment. In this enhanced model, the rate of change of the neonate's body temperature is determined by:\n",
    "\n",
    "$$\n",
    "\\frac{dT_b}{dt} = K_p (T_B - T_b) + K_i \\int (T_B - T_b) dt + \\alpha_i (T_b - T_e)\n",
    "$$\n",
    "\n",
    "Here:\n",
    "\n",
    "* $K_p (T_B - T_b)$ represents the proportional control, where the corrective action is proportional to the current temperature error.\n",
    "* $K_i \\int (T_B - T_b) dt$ represents the integral control, which accounts for the accumulated temperature error over time to eliminate steady-state deviations.\n",
    "* $\\alpha_i (T_b - T_e)$ represents the heat exchange with the environment, proportional to the temperature difference.\n"
   ]
  },
  {
   "cell_type": "markdown",
   "id": "eac96c",
   "metadata": {
    "collapsed": false
   },
   "source": [
    "<span style='font-size:x-large'>**Project Implementation**</span>\n"
   ]
  },
  {
   "cell_type": "markdown",
   "id": "3c8820",
   "metadata": {
    "collapsed": false
   },
   "source": [
    "This code simulates how a newborn's body temperature changes over time using a mathematical model. We start by setting up key parameters like desired body temperature \\(37 degrees Celsius\\), environmental temperature \\(35 degrees Celsius, typical for an incubator\\), and an initial body temperature \\(35 degrees Celsius\\). It also defines constants that influence how quickly the temperature changes. The simulation then runs through many small time steps, calculating the rate of temperature change at each step based on the current body temperature and the environment. This rate of change is then used to update the body temperature for the next step. Throughout this process, the code keeps track of the time and the corresponding body temperature. Finally, it generates a plot to visualize how the baby's body temperature evolves over the simulated time period.\n"
   ]
  },
  {
   "cell_type": "code",
   "execution_count": null,
   "id": "119b6a",
   "metadata": {
    "collapsed": false
   },
   "outputs": [
    {
     "data": {
      "image/png": "[encoded data removed]",
      "text/plain": [
       "Graphics object consisting of 1 graphics primitive"
      ]
     },
     "execution_count": 1,
     "metadata": {},
     "output_type": "execute_result"
    }
   ],
   "source": [
    "#define params\n",
    "K_p = 0.1\n",
    "K_i = 0.1\n",
    "alpha_i = 0.01\n",
    "T_B = 37\n",
    "T_e = 35 #incubators are typically set at 35 deg celsius // near ideal body temp\n",
    "T_b0 = 35  #initial body temperature\n",
    "I0 = 0     #initial integral term\n",
    "delta_t = 0.001  #time step\n",
    "n_steps = 100000  #number of iterations\n",
    "\n",
    "#initialize vars\n",
    "T_b = T_b0\n",
    "I = I0\n",
    "time_values = []\n",
    "T_b_values = []\n",
    "\n",
    "#iterate using eulers method\n",
    "for i in range(n_steps):\n",
    "    t = i * delta_t\n",
    "    dT_b_dt = K_p * (T_B - T_b) + K_i * I + alpha_i * (T_b - T_e)\n",
    "    T_b += delta_t * dT_b_dt\n",
    "    I += delta_t * (T_B - T_b)\n",
    "    \n",
    "    time_values.append(t)\n",
    "    T_b_values.append(T_b)\n",
    "\n",
    "#plot the results\n",
    "plot_sol = line(zip(time_values, T_b_values), legend_label=\"T_b(t)\")\n",
    "show(plot_sol)"
   ]
  },
  {
   "cell_type": "markdown",
   "id": "6d9abe",
   "metadata": {
    "collapsed": false
   },
   "source": [
    "<span style='font-size:x-large'>**Data Analysis**</span>\n",
    "\n"
   ]
  },
  {
   "cell_type": "markdown",
   "id": "54ab72",
   "metadata": {
    "collapsed": false
   },
   "source": [
    "![](https://cocalc.com/blobs/Screenshot%202025-05-02%20at%2017.15.11.png?uuid=1dccb3e6-71bc-423a-b7aa-f5ffb70720fc)\n"
   ]
  },
  {
   "cell_type": "markdown",
   "id": "135c01",
   "metadata": {
    "collapsed": false
   },
   "source": [
    "![](https://cocalc.com/blobs/Screenshot%202025-05-02%20at%2017.15.56.png?uuid=a88b5342-dcf3-4b93-a243-509d64d62dee)\n"
   ]
  },
  {
   "cell_type": "markdown",
   "id": "8fdfcc",
   "metadata": {
    "collapsed": false
   },
   "source": [
    "![](https://cocalc.com/blobs/Screenshot%202025-05-02%20at%2017.16.47.png?uuid=8dcb8911-3c97-41e7-bb44-66e277700ce8)\n",
    "\n"
   ]
  },
  {
   "cell_type": "markdown",
   "id": "808ae5",
   "metadata": {
    "collapsed": false
   },
   "source": [
    "![](https://cocalc.com/blobs/Screenshot%202025-05-02%20at%2017.21.19.png?uuid=ea521568-fab0-4e43-bd79-bd1588b56587)\n"
   ]
  },
  {
   "cell_type": "markdown",
   "id": "be9b5a",
   "metadata": {
    "collapsed": false
   },
   "source": [
    "![](https://cocalc.com/blobs/Screenshot%202025-05-02%20at%2017.17.53.png?uuid=949fc17e-e59d-42ed-a937-cc17228be3cb)\n"
   ]
  },
  {
   "cell_type": "markdown",
   "id": "cb7fcd",
   "metadata": {
    "collapsed": false
   },
   "source": [
    "If $T_B$ = $T_e$ = $T_{b0}$, the model is constant at the value these are equal to. This is shown below.\n",
    "\n"
   ]
  },
  {
   "cell_type": "code",
   "execution_count": null,
   "id": "4dd7a2",
   "metadata": {
    "collapsed": false
   },
   "outputs": [
    {
     "data": {
      "image/png": "[encoded data removed]",
      "text/plain": [
       "Graphics object consisting of 1 graphics primitive"
      ]
     },
     "execution_count": 2,
     "metadata": {},
     "output_type": "execute_result"
    }
   ],
   "source": [
    "#define params\n",
    "K_p = 0.1\n",
    "K_i = 0.1\n",
    "alpha_i = 0.01\n",
    "T_B = 37\n",
    "T_e = 37 #incubators are typically set at 35 deg celsius // near ideal body temp\n",
    "T_b0 = 37  #initial body temperature\n",
    "I0 = 0     #initial integral term\n",
    "delta_t = 0.001  #time step\n",
    "n_steps = 100000  #number of iterations\n",
    "\n",
    "#initialize vars\n",
    "T_b = T_b0\n",
    "I = I0\n",
    "time_values = []\n",
    "T_b_values = []\n",
    "\n",
    "#iterate using eulers method\n",
    "for i in range(n_steps):\n",
    "    t = i * delta_t\n",
    "    dT_b_dt = K_p * (T_B - T_b) + K_i * I + alpha_i * (T_b - T_e)\n",
    "    T_b += delta_t * dT_b_dt\n",
    "    I += delta_t * (T_B - T_b)\n",
    "    \n",
    "    time_values.append(t)\n",
    "    T_b_values.append(T_b)\n",
    "\n",
    "#plot the results\n",
    "plot_sol = line(zip(time_values, T_b_values), legend_label=\"T_b(t)\")\n",
    "show(plot_sol)"
   ]
  },
  {
   "cell_type": "markdown",
   "id": "9631c8",
   "metadata": {
    "collapsed": false
   },
   "source": [
    "<span style='font-size:x-large'>**Conclusion**</span>\n",
    "\n"
   ]
  },
  {
   "cell_type": "markdown",
   "id": "63e925",
   "metadata": {
    "collapsed": false
   },
   "source": [
    "This model provides a framework for understanding the complexity of factors that influence a newborn's body temperature. By applying the principles of heat transfer and thermodynamics, we derived a differential equation that serves as a tool for predicting temperature changes in response to metabolic heat production and environmental conditions. This approach can be used to further investigate optimal environmental conditions, like incubator settings, and inform interventions for neonates at risk of temperature instability.\n"
   ]
  },
  {
   "cell_type": "code",
   "execution_count": 0,
   "id": "496d18",
   "metadata": {
    "collapsed": false
   },
   "outputs": [],
   "source": []
  }
 ],
 "metadata": {
  "kernelspec": {
   "argv": [
    "sage-10.4",
    "--python",
    "-m",
    "sage.repl.ipython_kernel",
    "--matplotlib=inline",
    "-f",
    "{connection_file}"
   ],
   "display_name": "SageMath 10.4",
   "env": {},
   "language": "sagemath",
   "metadata": {
    "cocalc": {
     "description": "Open-source mathematical software system",
     "priority": 1,
     "url": "https://www.sagemath.org/"
    }
   },
   "name": "sage-10.4",
   "resource_dir": "/ext/jupyter/kernels/sage-10.4"
  },
  "language_info": {
   "codemirror_mode": {
    "name": "ipython",
    "version": 3
   },
   "file_extension": ".py",
   "mimetype": "text/x-python",
   "name": "python",
   "nbconvert_exporter": "python",
   "pygments_lexer": "ipython3",
   "version": "3.12.4"
  }
 },
 "nbformat": 4,
 "nbformat_minor": 4
}
